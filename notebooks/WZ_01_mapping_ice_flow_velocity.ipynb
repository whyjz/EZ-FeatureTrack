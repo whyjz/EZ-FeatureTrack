{
 "cells": [
  {
   "cell_type": "markdown",
   "id": "opponent-browser",
   "metadata": {},
   "source": [
    "# Mapping ice flow velocity using an easy and interactive feature tracking workflow"
   ]
  },
  {
   "cell_type": "markdown",
   "id": "differential-composite",
   "metadata": {},
   "source": [
    "## Authors\n",
    "\n",
    "- Author1 = {\"name\": \"Whyjay Zheng\",      \"affiliation\": \"University of California Berkeley\",            \"email\": \"whyjz@berkeley.edu\",           \"orcid\": \"0000-0002-2316-2614\"}\n",
    "- Author2 = {\"name\": \"Shane Grigsby\",     \"affiliation\": \"University of Maryland / NASA Goddard Center\", \"email\": \"grigsby@umd.edu\",              \"orcid\": \"0000-0003-4904-7785\"}\n",
    "- Author3 = {\"name\": \"Facundo Sapienza\",  \"affiliation\": \"University of California Berkeley\",            \"email\": \"fsapienza@berkeley.edu\",       \"orcid\": \"0000-0003-4252-7161\"}\n",
    "- Author4 = {\"name\": \"Jonathan Taylor\",   \"affiliation\": \"Stanford University\",                          \"email\": \"jonathan.taylor@stanford.edu\", \"orcid\": \"0000-0002-1716-7160\"}\n",
    "- Author5 = {\"name\": \"Tasha Snow\",        \"affiliation\": \"Colorado School of Mines\",                     \"email\": \"tsnow@mines.edu\",              \"orcid\": \"0000-0001-5697-5470\"}\n",
    "- Author6 = {\"name\": \"Fernando Pérez\",    \"affiliation\": \"University of California Berkeley\",            \"email\": \"fernando.perez@berkeley.edu\",  \"orcid\": \"0000-0002-1725-9815\"}\n",
    "- Author7 = {\"name\": \"Matthew Siegfried\", \"affiliation\": \"Colorado School of Mines\",                     \"email\": \"siegfried@mines.edu\",          \"orcid\": \"0000-0002-0868-4633\"}"
   ]
  },
  {
   "cell_type": "markdown",
   "id": "agricultural-margin",
   "metadata": {},
   "source": [
    "## Motivation and Purpose\n",
    "\n",
    "Observations of ice flow velocity provide a key component for modeling glacier dynamics and mass balance. Applying a feature-tracking technique to satellite visible or synthetic aperture radar imagery is one of the most commonly used methods for deriving ice flow velocity from remote sensing data. Despite being cost-effective compared to field measurements, implementing a feature-tracking workflow is not trivial because: \n",
    "\n",
    " 1. Searching for high-quality data can be time consuming\n",
    " 2. Fetching large-volume source imagery can be logistically challenging\n",
    " 3. There is no standardized pipeline for feature-tracking processes. \n",
    "\n",
    "Here we present an interactive, notebook-based interface that deploys an entire feature tracking workflow. This open-source tool aims to provide researchers, educators, and other users an accessible and reproducible method for performing glacier feature tracking. \n",
    "\n",
    "## Technical contributions\n",
    "\n",
    "- We develop a fully customizable and extensible workflow for mapping glacier velocities using a feature-tracking technique.\n",
    "- We develop two Python libraries, [GeoStacks](https://github.com/geostacks/GeoStacks) and [EZTrack](https://github.com/whyjz/EZ-FeatureTrack), for general spatial and domain-specific processes respectively. For details about GeoStacks, see our other team submission entitled [**GeoStacks: a library for efficient query and stacking of satellite remote sensing data sets**](https://mybinder.org/v2/gh/geostacks/GeoStacks/earthcube).\n",
    "- We build a Jupyter notebook interface for each step in our feature-tracking workflow, including data query, parameter selection, and interactive visualization.\n",
    "\n",
    "## Methodology\n",
    "\n",
    "The modularized workflow consists of the following steps: \n",
    "\n",
    "1. Query data \n",
    "2. Retrieve and aggregate data into system memory \n",
    "3. Select feature-tracking kernel and parameters\n",
    "4. Filter data for feature enhancement\n",
    "5. Perform feature tracking \n",
    "6. Mask outliers and interpolate results as needed \n",
    "7. Visualize and export results\n",
    "\n",
    "We combine multiple open sources packages for most of these routines, including `pandas`, `geopandas`, `shapely`, `ipyleaflet`, `ipywidgets`, `xarray`, `rasterio`, and `matplotlib`. For the first steps, we use the **GeoStacks** package to showcase its potential application. For this demo notebook, we use [CARST](https://github.com/whyjz/CARST) (Cryosphere And Remote Sensing Toolkit) and ITS_LIVE as the core feature tracking processes and data sources. CARST uses the NCC kernel `ampcor` from the [ISCE software](https://github.com/isce-framework/isce2) for feature tracking. Nevertheless, the feature tracking kernel and all related filters, masks, and interpolation processes can be easily replaced by other tools from a different feature tracking package (e.g., autoRIFT; Lei et al., 2021) or a user-defined function. \n",
    "\n",
    "## Results\n",
    "\n",
    "In our demo notebook, we query data over Jakobshavn Isbræ, a large outlet glacier of the Greenland Ice Sheet with a history of seasonal flow speed variation (e.g., Khazendar et al., 2019; Riel et al., 2021). Users can choose to explore the readily available ITS_LIVE velocity or perform feature tracking using the Landsat 8 imagery. In this mini-study, we derive the spring speed change of Jakobshavn Isbræ during 2015--2021 (a few weeks before the EarthCube meeting) using both ITS_LIVE and CARST-derived data and find that the slowdown event at Jakobshavn in 2017/2018 seems to have been a temporary event: in 2021, Jakobshavn's spring speed increases and likely reaches back to the peak between 2013 and 2016.\n",
    "\n",
    "This demo notebook provides an easy and interactive way to deploy an entire feature-tracking use-case. This workflow will allow researchers of any skill level to explore new data, compare different algorithms, and visualize and validate their results. This tool also shows the full potential for education uses since it lowers the technical threshold for manipulating satellite data and deriving glacier speeds. The modules used by this demo notebook, including the GeoStacks and CARST packages, are open-source software and welcome community contributions.\n",
    "\n",
    "## Funding\n",
    "\n",
    "- Award1 = {\"agency\": \"US National Science Foundation\", \"award_code\": \"1928406\", \"award_URL\": \"https://nsf.gov/awardsearch/showAward?AWD_ID=1928406\" }\n",
    "- Award2 = {\"agency\": \"US National Science Foundation\", \"award_code\": \"1928374\", \"award_URL\": \"https://nsf.gov/awardsearch/showAward?AWD_ID=1928374\" }\n",
    "\n",
    "\n",
    "## Keywords\n",
    "\n",
    "keywords=[\"glacier velocity\", \"feature tracking\", \"ice flow\", \"remote sensing\", \"ITS_LIVE\"]\n",
    "\n",
    "## Citation\n",
    "\n",
    "Zheng, W., Grisby, S., Sapienza, F., Taylor, J., Snow, T., Pérez, F., & Siegfried, M. (2021). Mapping ice flow velocity using an easy and interactive feature tracking workflow. Accessed x/x/xxxx at https://github.com/whyjz/EZ-FeatureTrack\n",
    "\n",
    "\n",
    "## Work In Progress - improvements \n",
    "\n",
    "Notable TODOs:\n",
    "- progress bar (?)\n",
    "- cloud cover info (?)\n",
    "\n",
    "## Suggested next steps\n",
    "\n",
    "Future integration of this work with a numerical glacier model or a web-based service is possible.\n",
    "\n",
    "<!-- ## Acknowledgements \n",
    "\n",
    "Include any relevant acknowledgements, apart from funding (which was in section 1.6)\n",
    "\n",
    "This notebook template extends the original notebook template provided with the jupytemplate extension [5]. It is a result of collaboration between the TAC Working Group and the EarthCube Office. \n",
    "\n",
    "The template is licensed under a <a href=\"http://creativecommons.org/licenses/by/4.0/\">Creative Commons Attribution 4.0 International License.</a> -->"
   ]
  },
  {
   "cell_type": "markdown",
   "id": "enclosed-precipitation",
   "metadata": {},
   "source": [
    "# Setup"
   ]
  },
  {
   "cell_type": "code",
   "execution_count": 1,
   "id": "chinese-bumper",
   "metadata": {},
   "outputs": [],
   "source": [
    "# Developer's setting\n",
    "%load_ext autoreload\n",
    "%autoreload 2\n",
    "%matplotlib widget"
   ]
  },
  {
   "cell_type": "markdown",
   "id": "martial-student",
   "metadata": {},
   "source": [
    "First, we import \n",
    "1. `GeoStacks`, which provides processes for accessing spatial data and their metadata. Here we have one class: `SpatialIndexLS8` for Landsat 8. As we continue to develop the `GeoStacks` library, more satellite data sets will be available for query in the future. \n",
    "2. `EZTrack`, which provides the UI, feature-tracking core, and some related processes (e.g., spatial filters, data storage, etc.)"
   ]
  },
  {
   "cell_type": "code",
   "execution_count": 2,
   "id": "secret-spencer",
   "metadata": {},
   "outputs": [
    {
     "name": "stdout",
     "output_type": "stream",
     "text": [
      "This is the Open Source version of ISCE.\n",
      "Some of the workflows depend on a separate licensed package.\n",
      "To obtain the licensed package, please make a request for ISCE\n",
      "through the website: https://download.jpl.nasa.gov/ops/request/index.cfm.\n",
      "Alternatively, if you are a member, or can become a member of WinSAR\n",
      "you may be able to obtain access to a version of the licensed sofware at\n",
      "https://winsar.unavco.org/software/isce\n"
     ]
    }
   ],
   "source": [
    "# This lets GDAL read a file through a URL without issues\n",
    "import os\n",
    "os.environ['GDAL_SKIP'] = 'DODS'\n",
    "\n",
    "# Load core modules\n",
    "from geostacks import SpatialIndexLS8\n",
    "from eztrack import eztrack_ui\n",
    "\n",
    "# Load additional modules\n",
    "import matplotlib.pyplot as plt\n",
    "import rasterio\n",
    "from rasterio.plot import show\n",
    "import numpy as np\n",
    "from datetime import date"
   ]
  },
  {
   "cell_type": "markdown",
   "id": "foreign-passing",
   "metadata": {},
   "source": [
    "# Read LS8 spatial indices \n",
    "\n",
    "To query available data on an interactive map, we use the LS8 corner points for the spatial extent for each path/row combination. See the [GeoStacks repo](https://github.com/geostacks/GeoStacks) for more details."
   ]
  },
  {
   "cell_type": "code",
   "execution_count": 3,
   "id": "temporal-syria",
   "metadata": {},
   "outputs": [
    {
     "data": {
      "text/html": [
       "<div>\n",
       "<style scoped>\n",
       "    .dataframe tbody tr th:only-of-type {\n",
       "        vertical-align: middle;\n",
       "    }\n",
       "\n",
       "    .dataframe tbody tr th {\n",
       "        vertical-align: top;\n",
       "    }\n",
       "\n",
       "    .dataframe thead th {\n",
       "        text-align: right;\n",
       "    }\n",
       "</style>\n",
       "<table border=\"1\" class=\"dataframe\">\n",
       "  <thead>\n",
       "    <tr style=\"text-align: right;\">\n",
       "      <th></th>\n",
       "      <th>path</th>\n",
       "      <th>row</th>\n",
       "      <th>lon_CTR</th>\n",
       "      <th>lat_CTR</th>\n",
       "      <th>geometry</th>\n",
       "    </tr>\n",
       "  </thead>\n",
       "  <tbody>\n",
       "    <tr>\n",
       "      <th>0</th>\n",
       "      <td>1</td>\n",
       "      <td>2</td>\n",
       "      <td>-4.197763</td>\n",
       "      <td>80.002493</td>\n",
       "      <td>POLYGON ((-2.73002 81.20570, 2.59456 79.71746,...</td>\n",
       "    </tr>\n",
       "    <tr>\n",
       "      <th>1</th>\n",
       "      <td>1</td>\n",
       "      <td>3</td>\n",
       "      <td>-10.561457</td>\n",
       "      <td>79.111023</td>\n",
       "      <td>POLYGON ((-9.99477 80.33234, -4.15668 78.95795...</td>\n",
       "    </tr>\n",
       "    <tr>\n",
       "      <th>2</th>\n",
       "      <td>1</td>\n",
       "      <td>4</td>\n",
       "      <td>-15.970556</td>\n",
       "      <td>78.118527</td>\n",
       "      <td>POLYGON ((-16.04544 79.34425, -10.01855 78.079...</td>\n",
       "    </tr>\n",
       "    <tr>\n",
       "      <th>3</th>\n",
       "      <td>1</td>\n",
       "      <td>5</td>\n",
       "      <td>-20.471403</td>\n",
       "      <td>77.048224</td>\n",
       "      <td>POLYGON ((-20.97844 78.26901, -14.98803 77.105...</td>\n",
       "    </tr>\n",
       "    <tr>\n",
       "      <th>4</th>\n",
       "      <td>1</td>\n",
       "      <td>6</td>\n",
       "      <td>-24.338152</td>\n",
       "      <td>75.902095</td>\n",
       "      <td>POLYGON ((-25.13378 77.11339, -19.30751 76.041...</td>\n",
       "    </tr>\n",
       "    <tr>\n",
       "      <th>...</th>\n",
       "      <td>...</td>\n",
       "      <td>...</td>\n",
       "      <td>...</td>\n",
       "      <td>...</td>\n",
       "      <td>...</td>\n",
       "    </tr>\n",
       "    <tr>\n",
       "      <th>21898</th>\n",
       "      <td>233</td>\n",
       "      <td>242</td>\n",
       "      <td>44.207091</td>\n",
       "      <td>80.008794</td>\n",
       "      <td>POLYGON ((51.28225 80.15426, 45.38953 78.79931...</td>\n",
       "    </tr>\n",
       "    <tr>\n",
       "      <th>21899</th>\n",
       "      <td>233</td>\n",
       "      <td>243</td>\n",
       "      <td>36.728885</td>\n",
       "      <td>80.760793</td>\n",
       "      <td>POLYGON ((44.27339 81.05282, 38.82326 79.58492...</td>\n",
       "    </tr>\n",
       "    <tr>\n",
       "      <th>21900</th>\n",
       "      <td>233</td>\n",
       "      <td>244</td>\n",
       "      <td>28.123821</td>\n",
       "      <td>81.338812</td>\n",
       "      <td>POLYGON ((35.89000 81.79801, 31.32504 80.22170...</td>\n",
       "    </tr>\n",
       "    <tr>\n",
       "      <th>21901</th>\n",
       "      <td>233</td>\n",
       "      <td>245</td>\n",
       "      <td>18.551148</td>\n",
       "      <td>81.705630</td>\n",
       "      <td>POLYGON ((26.54158 82.32623, 23.32388 80.66332...</td>\n",
       "    </tr>\n",
       "    <tr>\n",
       "      <th>21902</th>\n",
       "      <td>233</td>\n",
       "      <td>248</td>\n",
       "      <td>-11.314870</td>\n",
       "      <td>81.338539</td>\n",
       "      <td>POLYGON ((-7.24108 82.42211, -4.41066 80.74283...</td>\n",
       "    </tr>\n",
       "  </tbody>\n",
       "</table>\n",
       "<p>21903 rows × 5 columns</p>\n",
       "</div>"
      ],
      "text/plain": [
       "       path  row    lon_CTR    lat_CTR  \\\n",
       "0         1    2  -4.197763  80.002493   \n",
       "1         1    3 -10.561457  79.111023   \n",
       "2         1    4 -15.970556  78.118527   \n",
       "3         1    5 -20.471403  77.048224   \n",
       "4         1    6 -24.338152  75.902095   \n",
       "...     ...  ...        ...        ...   \n",
       "21898   233  242  44.207091  80.008794   \n",
       "21899   233  243  36.728885  80.760793   \n",
       "21900   233  244  28.123821  81.338812   \n",
       "21901   233  245  18.551148  81.705630   \n",
       "21902   233  248 -11.314870  81.338539   \n",
       "\n",
       "                                                geometry  \n",
       "0      POLYGON ((-2.73002 81.20570, 2.59456 79.71746,...  \n",
       "1      POLYGON ((-9.99477 80.33234, -4.15668 78.95795...  \n",
       "2      POLYGON ((-16.04544 79.34425, -10.01855 78.079...  \n",
       "3      POLYGON ((-20.97844 78.26901, -14.98803 77.105...  \n",
       "4      POLYGON ((-25.13378 77.11339, -19.30751 76.041...  \n",
       "...                                                  ...  \n",
       "21898  POLYGON ((51.28225 80.15426, 45.38953 78.79931...  \n",
       "21899  POLYGON ((44.27339 81.05282, 38.82326 79.58492...  \n",
       "21900  POLYGON ((35.89000 81.79801, 31.32504 80.22170...  \n",
       "21901  POLYGON ((26.54158 82.32623, 23.32388 80.66332...  \n",
       "21902  POLYGON ((-7.24108 82.42211, -4.41066 80.74283...  \n",
       "\n",
       "[21903 rows x 5 columns]"
      ]
     },
     "execution_count": 3,
     "metadata": {},
     "output_type": "execute_result"
    }
   ],
   "source": [
    "ls8_index = SpatialIndexLS8('./LANDSAT_8_C1_cornerpoints.csv')\n",
    "ls8_index.read()        # read the CSV into spatial index\n",
    "ls8_index.footprint     # this is a geopandas DataFrame containing footprint of each Path/Row combination."
   ]
  },
  {
   "cell_type": "markdown",
   "id": "english-pharmacy",
   "metadata": {},
   "source": [
    "This shows the center lat/lon (`lon_CTR` and `lat_CTR`) for each LS8 path/row combination, and their image extent specified by the `geometry` field. For example, the path/row `001/002` has a center coordinate of (80.0025 N, 4.1978 W). There are only 21,903 available records instead of $233 \\times 248 = $ 57,704 because not all path/row combinations have at least one valid scenes (i.e., Landsat 8 does not take images on ocean surface).\n",
    "\n",
    "## The `query_pathrow` method\n",
    "\n",
    "The `SpatialIndexLS8` class also comes with a `query_pathrow` method that uses quad tree and point-in-polygon spatial algorithms (See the [GeoStacks repo](https://github.com/geostacks/GeoStacks) for more details). It queries all Path/Row combinations that cover a query point."
   ]
  },
  {
   "cell_type": "code",
   "execution_count": 4,
   "id": "terminal-verse",
   "metadata": {},
   "outputs": [
    {
     "data": {
      "text/html": [
       "<div>\n",
       "<style scoped>\n",
       "    .dataframe tbody tr th:only-of-type {\n",
       "        vertical-align: middle;\n",
       "    }\n",
       "\n",
       "    .dataframe tbody tr th {\n",
       "        vertical-align: top;\n",
       "    }\n",
       "\n",
       "    .dataframe thead th {\n",
       "        text-align: right;\n",
       "    }\n",
       "</style>\n",
       "<table border=\"1\" class=\"dataframe\">\n",
       "  <thead>\n",
       "    <tr style=\"text-align: right;\">\n",
       "      <th></th>\n",
       "      <th>path</th>\n",
       "      <th>row</th>\n",
       "      <th>lon_CTR</th>\n",
       "      <th>lat_CTR</th>\n",
       "      <th>geometry</th>\n",
       "    </tr>\n",
       "  </thead>\n",
       "  <tbody>\n",
       "    <tr>\n",
       "      <th>695</th>\n",
       "      <td>8</td>\n",
       "      <td>11</td>\n",
       "      <td>-47.813174</td>\n",
       "      <td>69.606470</td>\n",
       "      <td>POLYGON ((-49.04594 70.75626, -44.45141 69.997...</td>\n",
       "    </tr>\n",
       "    <tr>\n",
       "      <th>696</th>\n",
       "      <td>8</td>\n",
       "      <td>12</td>\n",
       "      <td>-49.506130</td>\n",
       "      <td>68.279699</td>\n",
       "      <td>POLYGON ((-50.74347 69.41965, -46.36735 68.700...</td>\n",
       "    </tr>\n",
       "    <tr>\n",
       "      <th>782</th>\n",
       "      <td>9</td>\n",
       "      <td>11</td>\n",
       "      <td>-49.355231</td>\n",
       "      <td>69.606482</td>\n",
       "      <td>POLYGON ((-50.58956 70.75716, -45.99051 69.997...</td>\n",
       "    </tr>\n",
       "    <tr>\n",
       "      <th>783</th>\n",
       "      <td>9</td>\n",
       "      <td>12</td>\n",
       "      <td>-51.046291</td>\n",
       "      <td>68.279697</td>\n",
       "      <td>POLYGON ((-52.28549 69.42048, -47.90452 68.700...</td>\n",
       "    </tr>\n",
       "    <tr>\n",
       "      <th>866</th>\n",
       "      <td>10</td>\n",
       "      <td>11</td>\n",
       "      <td>-50.895321</td>\n",
       "      <td>69.606439</td>\n",
       "      <td>POLYGON ((-52.13270 70.75647, -47.53033 69.996...</td>\n",
       "    </tr>\n",
       "    <tr>\n",
       "      <th>6845</th>\n",
       "      <td>81</td>\n",
       "      <td>233</td>\n",
       "      <td>-48.202833</td>\n",
       "      <td>69.606467</td>\n",
       "      <td>POLYGON ((-44.96551 69.15807, -49.29514 68.442...</td>\n",
       "    </tr>\n",
       "    <tr>\n",
       "      <th>6915</th>\n",
       "      <td>82</td>\n",
       "      <td>233</td>\n",
       "      <td>-49.749759</td>\n",
       "      <td>69.606440</td>\n",
       "      <td>POLYGON ((-46.51348 69.16081, -50.84713 68.444...</td>\n",
       "    </tr>\n",
       "    <tr>\n",
       "      <th>7017</th>\n",
       "      <td>83</td>\n",
       "      <td>232</td>\n",
       "      <td>-49.604053</td>\n",
       "      <td>68.279726</td>\n",
       "      <td>POLYGON ((-46.58181 67.80603, -50.70937 67.125...</td>\n",
       "    </tr>\n",
       "    <tr>\n",
       "      <th>7018</th>\n",
       "      <td>83</td>\n",
       "      <td>233</td>\n",
       "      <td>-51.293647</td>\n",
       "      <td>69.606447</td>\n",
       "      <td>POLYGON ((-48.05298 69.15870, -52.38942 68.442...</td>\n",
       "    </tr>\n",
       "    <tr>\n",
       "      <th>7087</th>\n",
       "      <td>84</td>\n",
       "      <td>232</td>\n",
       "      <td>-51.145138</td>\n",
       "      <td>68.279691</td>\n",
       "      <td>POLYGON ((-48.12431 67.80870, -52.25525 67.127...</td>\n",
       "    </tr>\n",
       "  </tbody>\n",
       "</table>\n",
       "</div>"
      ],
      "text/plain": [
       "      path  row    lon_CTR    lat_CTR  \\\n",
       "695      8   11 -47.813174  69.606470   \n",
       "696      8   12 -49.506130  68.279699   \n",
       "782      9   11 -49.355231  69.606482   \n",
       "783      9   12 -51.046291  68.279697   \n",
       "866     10   11 -50.895321  69.606439   \n",
       "6845    81  233 -48.202833  69.606467   \n",
       "6915    82  233 -49.749759  69.606440   \n",
       "7017    83  232 -49.604053  68.279726   \n",
       "7018    83  233 -51.293647  69.606447   \n",
       "7087    84  232 -51.145138  68.279691   \n",
       "\n",
       "                                               geometry  \n",
       "695   POLYGON ((-49.04594 70.75626, -44.45141 69.997...  \n",
       "696   POLYGON ((-50.74347 69.41965, -46.36735 68.700...  \n",
       "782   POLYGON ((-50.58956 70.75716, -45.99051 69.997...  \n",
       "783   POLYGON ((-52.28549 69.42048, -47.90452 68.700...  \n",
       "866   POLYGON ((-52.13270 70.75647, -47.53033 69.996...  \n",
       "6845  POLYGON ((-44.96551 69.15807, -49.29514 68.442...  \n",
       "6915  POLYGON ((-46.51348 69.16081, -50.84713 68.444...  \n",
       "7017  POLYGON ((-46.58181 67.80603, -50.70937 67.125...  \n",
       "7018  POLYGON ((-48.05298 69.15870, -52.38942 68.442...  \n",
       "7087  POLYGON ((-48.12431 67.80870, -52.25525 67.127...  "
      ]
     },
     "execution_count": 4,
     "metadata": {},
     "output_type": "execute_result"
    }
   ],
   "source": [
    "query_pt = [-50., 69.]    # in lon/lat format; i.e., (50E, 69N)\n",
    "idxs = ls8_index.query_pathrow(query_pt)\n",
    "ls8_index.footprint.loc[idxs]"
   ]
  },
  {
   "cell_type": "markdown",
   "id": "harmful-lightning",
   "metadata": {},
   "source": [
    "This subset shows all 10 path/row combinations at the given query point (50E, 69N) where Landsat 8 scenes are available."
   ]
  },
  {
   "cell_type": "markdown",
   "id": "defensive-recorder",
   "metadata": {},
   "source": [
    "# The Feature Tracking UI\n",
    "\n",
    "With information from a `SpatialIndex` object, we build up a UI that allows users to query Landsat 8 and ITS_LIVE data."
   ]
  },
  {
   "cell_type": "code",
   "execution_count": 5,
   "id": "missing-layer",
   "metadata": {},
   "outputs": [
    {
     "data": {
      "application/vnd.jupyter.widget-view+json": {
       "model_id": "22aa45e1d199435296be1a5bf2ba8485",
       "version_major": 2,
       "version_minor": 0
      },
      "text/plain": [
       "AppLayout(children=(VBox(children=(HTML(value='<h2>Drag the marker to your region of interest</h2>'), Select(d…"
      ]
     },
     "metadata": {},
     "output_type": "display_data"
    }
   ],
   "source": [
    "cpanel = eztrack_ui(spatial_index=ls8_index)\n",
    "cpanel.gen_ui()"
   ]
  },
  {
   "cell_type": "markdown",
   "id": "capable-victory",
   "metadata": {},
   "source": [
    "The `show_ft_parames` allows you to adjust the most important parameters for feature tracking using the Jupyter widgets:\n",
    "\n",
    "- `reference window size`: The size of reference window (aka chip or template for feature matching) in pixels.\n",
    "- `search window size`: The size of search window in pixels. How many pixels do you expect your feature to move? The default is 20 pixels here, which means the maximum detectable feature displacement is 20 * (pixel spacing) = 600 m (Band 4) or 300 m (Band 8).\n",
    "- `skip size`: The size of the output image resolution, in multiplier of pixels (e.g., 1 = 1 pixel = original resolution). The less this number is, the longer the computation would take.\n",
    "\n",
    "All the modifications are passed to the UI immediately."
   ]
  },
  {
   "cell_type": "code",
   "execution_count": 6,
   "id": "dress-difference",
   "metadata": {},
   "outputs": [
    {
     "data": {
      "application/vnd.jupyter.widget-view+json": {
       "model_id": "4b95af4a63e54d42891284c62c83e85e",
       "version_major": 2,
       "version_minor": 0
      },
      "text/plain": [
       "VBox(children=(IntSlider(value=64, description='reference window size', max=256, min=16, step=16), IntSlider(v…"
      ]
     },
     "metadata": {},
     "output_type": "display_data"
    }
   ],
   "source": [
    "cpanel.show_ft_params()"
   ]
  },
  {
   "cell_type": "markdown",
   "id": "demonstrated-emergency",
   "metadata": {},
   "source": [
    "You can view entire parameter set by typing the following command."
   ]
  },
  {
   "cell_type": "code",
   "execution_count": 8,
   "id": "educational-change",
   "metadata": {},
   "outputs": [
    {
     "data": {
      "text/plain": [
       "{'refwindow_x': 64,\n",
       " 'refwindow_y': 64,\n",
       " 'searchwindow_x': 20,\n",
       " 'searchwindow_y': 20,\n",
       " 'skip_across': 64,\n",
       " 'skip_down': 64,\n",
       " 'oversampling': 16,\n",
       " 'threads': 8,\n",
       " 'gaussian_hp': False,\n",
       " 'gaussian_hp_sigma': 3.0}"
      ]
     },
     "execution_count": 8,
     "metadata": {},
     "output_type": "execute_result"
    }
   ],
   "source": [
    "cpanel.ft_params.pxsettings"
   ]
  },
  {
   "cell_type": "markdown",
   "id": "clear-spotlight",
   "metadata": {},
   "source": [
    "Feature tracking results or the selected ITS_LIVE data are stored in `cpanel.results` once the `run` button is clicked. The data structure of `cpanel.results` depends on the data/kernel selection:\n",
    "\n",
    "- ITS_LIVE: `xarray` object\n",
    "- CARST: `rasterio` dataset"
   ]
  },
  {
   "cell_type": "code",
   "execution_count": 7,
   "id": "weird-running",
   "metadata": {},
   "outputs": [
    {
     "data": {
      "text/plain": [
       "<open DatasetReader name='20210417-20210503_velo-raw_mag.tif' mode='r'>"
      ]
     },
     "execution_count": 7,
     "metadata": {},
     "output_type": "execute_result"
    }
   ],
   "source": [
    "cpanel.results"
   ]
  },
  {
   "cell_type": "markdown",
   "id": "likely-entity",
   "metadata": {},
   "source": [
    "You can also view messages or errors generated by the UI during the feature tracking processes by accessing `cpanel.output`. For ITS_LIVE, this will let you get the URL if you want to download the selected scenes. For CARST, you can check the messages generated from each feature tracking steps."
   ]
  },
  {
   "cell_type": "code",
   "execution_count": 42,
   "id": "innocent-pharmacy",
   "metadata": {},
   "outputs": [
    {
     "data": {
      "application/vnd.jupyter.widget-view+json": {
       "model_id": "47b5316002d34235a281d79142034253",
       "version_major": 2,
       "version_minor": 0
      },
      "text/plain": [
       "Output(outputs=({'name': 'stdout', 'text': 'https://landsat-pds.s3.amazonaws.com/c1/L8/009/011/LC08_L1TP_00901…"
      ]
     },
     "metadata": {},
     "output_type": "display_data"
    }
   ],
   "source": [
    "cpanel.output "
   ]
  },
  {
   "cell_type": "markdown",
   "id": "moved-library",
   "metadata": {},
   "source": [
    "# Mini study: The evolution of ice speed at Jakobshavn Isbræ, Greenland \n",
    "\n",
    "This section aims to provide a step-by-step guide of how to use the feature tracking UI by carrying out a mini science exploration. Our goal is to see the evolution of ice flow speed at Jakobshavn Isbræ, Greenland, since 2015. This outlet glacier experienced a multi-year slow-down event in at least 2017 and 2018 (e.g., Khazendar et al., 2019; Riel et al., 2021), and we will find whether this trend continues to 2021. \n",
    "\n",
    "We first retrieve ITS_LIVE ice speed over Jakobshavn from 2015 and 2018. Since ITS_LIVE does not provide any results after 2018, we use CARST to calculate ice speed Jakobshavn in 2021. We use spring (April) scenes from all these years to minimize the bias from seasonal speed variaion.\n",
    "\n",
    "<!-- - Landsat path/row: 009/011\n",
    "- ITS_LIVE pair 1: 2015-04-01 - 2015-05-03\n",
    "- ITS_LIVE pair 2: 2018-04-09 - 2018-04-25\n",
    "- CARST pair 1: 2021-04-17 - 2021-05-03  (~5-10 mins if skip is set to 16 pixels) -->\n",
    "\n",
    "## 2015 speed (ITS_LIVE)\n",
    "\n",
    "First, launch the UI from the previous section. The default marker location is already over Jakobshavn Isbræ so you don't need to change it, but feel free to move it around to see how this UI works. The panel in the left shows all available Landsat 8 path and row combinations. Selection `009/011`, and check `ITS_LIVE (online ready)` as the Data/Kernel. \n",
    "\n",
    "Now, press `Search for dates`. You should be able to see a full list of available ITS_LIVE scenes in the right panel. select `2015-04-01 / 2015-05-03 / 32 days` and click `Get data` button. You can ignore the band button when querying the ITS_LIVE data set.\n",
    "\n",
    "After the data are loaded, execute the following cell.\n",
    "\n",
    "<!-- Sample comparison between the ITS_LIVE data set and feature tracking results from a customized workflow\n",
    "\n",
    "Using the UI and the workflow provided here, we can easily select a satellite image pair, perform feature tracking using a customized workflow, and compare with results from a different workflow (e.g., ITS_LIVE).\n",
    "\n",
    "The data show the summer speed of Jakobshavn Isbræ and some nearby glaciers in summer 2018. Note that ITS_LIVE and CARST results use a different projection. -->\n"
   ]
  },
  {
   "cell_type": "code",
   "execution_count": 9,
   "id": "behind-tower",
   "metadata": {},
   "outputs": [],
   "source": [
    "speed2015 = cpanel.results.copy(deep=True)"
   ]
  },
  {
   "cell_type": "markdown",
   "id": "republican-victim",
   "metadata": {},
   "source": [
    "## 2018 speed (ITS_LIVE)\n",
    "\n",
    "Now select `2018-04-09 / 2018-04-25 / 16 days` and click `Get data` button again. After the data are loaded, execute the following cell."
   ]
  },
  {
   "cell_type": "code",
   "execution_count": 10,
   "id": "chinese-convert",
   "metadata": {},
   "outputs": [],
   "source": [
    "speed2018 = cpanel.results.copy(deep=True)"
   ]
  },
  {
   "cell_type": "markdown",
   "id": "2f003ab5-b3da-4533-8796-1d84781635f3",
   "metadata": {},
   "source": [
    "## 2021 speed (CARST)\n",
    "\n",
    "You can consider uncommenting and running the following cell for getting the same results presented in the bottom of this Notebook. **Warning: if you do this on Binder, it will take a quite long time to run (~1-2 hours) since Binder does not allocate sufficient memory for a feature tracking process with such a high resolution. We recommend turning this cell on only if you are using a local machine with sufficient CPU and memory resources.**"
   ]
  },
  {
   "cell_type": "code",
   "execution_count": null,
   "id": "e4c295fb-d2ae-4656-8877-ad35a9c21c4e",
   "metadata": {},
   "outputs": [],
   "source": [
    "# cpanel.ft_params.pxsettings['skip_across'] = 16\n",
    "# cpanel.ft_params.pxsettings['skip_down'] = 16"
   ]
  },
  {
   "cell_type": "markdown",
   "id": "16c33e84-2c3f-441d-8c49-3d1656c9680f",
   "metadata": {},
   "source": [
    "Now switch the Data/Kernel to `CARST` and hit `Search for dates` button again. In the right panel, hold the Ctrl button and select `2021-04-17` and `2021-05-03`. Select `B4` as the input band, and click the `Get data` button. This will download the corresponding Landsat scenes and run feature tracking using the default parameter settings, which will take a few minutes on the Binder server (may be faster on your powerful local machine). You can also try to use Band 8 as input or change the parameter settings by running `cpanel.show_ft_params()` or tweaking `cpanel.ft_params.pxsettings`. Generally speaking, Band 8 needs 4X more time to process than Band 4 because its pixel spacing (15 m) is smaller than that of B4 (30 m). \n",
    "\n",
    "After the feature tracking process is done (indicated by the little hollow circle in the upper right window), you can run the the following cell."
   ]
  },
  {
   "cell_type": "code",
   "execution_count": 8,
   "id": "joined-forum",
   "metadata": {},
   "outputs": [],
   "source": [
    "speed2021 = rasterio.open(cpanel.results.name)"
   ]
  },
  {
   "cell_type": "markdown",
   "id": "designed-clark",
   "metadata": {},
   "source": [
    "## Visualizing results\n",
    "\n",
    "Now we are ready to see the results!"
   ]
  },
  {
   "cell_type": "code",
   "execution_count": 94,
   "id": "dedicated-communist",
   "metadata": {},
   "outputs": [
    {
     "data": {
      "application/vnd.jupyter.widget-view+json": {
       "model_id": "f0c528048be54006aebdda79d8c6eb20",
       "version_major": 2,
       "version_minor": 0
      },
      "text/plain": [
       "Canvas(toolbar=Toolbar(toolitems=[('Home', 'Reset original view', 'home', 'home'), ('Back', 'Back to previous …"
      ]
     },
     "metadata": {},
     "output_type": "display_data"
    },
    {
     "data": {
      "text/plain": [
       "Text(0.5, 1.0, 'CARST 20210417 - 20210503 \\n Input: Landsat 8 Band 4 \\n Chip size: 64 pixels \\n Raw NCC ouput, no mask and interp \\n')"
      ]
     },
     "execution_count": 94,
     "metadata": {},
     "output_type": "execute_result"
    }
   ],
   "source": [
    "fig, ax0 = plt.subplots(1, 3, figsize=(14, 4), sharex=True, sharey=True)\n",
    "\n",
    "xlim = [520000, 620000]\n",
    "ylim = [7640000, 7700000]\n",
    "\n",
    "handle = speed2015.v.plot(ax=ax0[0], robust=True, cmap=plt.cm.viridis, vmin=0, vmax=10000, add_colorbar=False)\n",
    "ax0[0].axis('image')\n",
    "speed2018.v.plot(ax=ax0[1], robust=True, cmap=plt.cm.viridis, vmin=0, vmax=10000, add_colorbar=False)\n",
    "ax0[1].axis('image')\n",
    "\n",
    "show(speed2021, ax=ax0[2], cmap='viridis', vmin=0, vmax=10000./365.25)\n",
    "\n",
    "ax0[0].set_xlim(xlim)\n",
    "ax0[0].set_ylim(ylim)\n",
    "plt.subplots_adjust(left=0.08, right=0.85)\n",
    "cax = plt.axes([0.88, 0.1, 0.04, 0.8])\n",
    "cbar = plt.colorbar(handle, cax=cax)\n",
    "cbar.set_label('Ice flow speed (m/yr)')\n",
    "\n",
    "ax0[0].scatter([559000, 577000], [7669000, 7670700], s=4, c='xkcd:red')\n",
    "ax0[1].scatter([559000, 577000], [7669000, 7670700], s=4, c='xkcd:red')\n",
    "ax0[2].scatter([559000, 577000], [7669000, 7670700], s=4, c='xkcd:red') #, linewidths=0.5, edgecolors='xkcd:black')\n",
    "ax0[0].set_title('ITS_LIVE 20150401 - 20150503 \\n Input: Landsat 8 Band 8 \\n outlier mask and hole interpolation \\n')\n",
    "ax0[1].set_title('ITS_LIVE 20180409 - 20180425 \\n Input: Landsat 8 Band 8 \\n outlier mask and hole interpolation \\n')\n",
    "ax0[2].set_title('CARST 20210417 - 20210503 \\n Input: Landsat 8 Band 4 \\n Chip size: 64 pixels \\n Raw NCC ouput, no mask and interp \\n')"
   ]
  },
  {
   "cell_type": "markdown",
   "id": "violent-source",
   "metadata": {},
   "source": [
    "You plot should look similar to this -- except that the CARST result here uses a skip size of 16 (so the resolution is finer).\n",
    "\n",
    "![title](results1.png)\n",
    "\n",
    "The red dots on the map mark where we are going to sample the speed from all three maps!"
   ]
  },
  {
   "cell_type": "code",
   "execution_count": 88,
   "id": "portable-december",
   "metadata": {},
   "outputs": [
    {
     "data": {
      "text/plain": [
       "array([[3436.0],\n",
       "       [2772.0],\n",
       "       [3172.362548828125]], dtype=object)"
      ]
     },
     "execution_count": 88,
     "metadata": {},
     "output_type": "execute_result"
    }
   ],
   "source": [
    "vel_pt1 = []\n",
    "vel_pt1.append(speed2015.v.sel(x=[559000], y=[7669000], method=\"nearest\"))\n",
    "vel_pt1.append(speed2018.v.sel(x=[559000], y=[7669000], method=\"nearest\"))\n",
    "for val in speed2021.sample([(559000, 7669000)]):\n",
    "    tmp = val * 365.25\n",
    "vel_pt1.append(tmp)\n",
    "vel_pt1 = np.array(vel_pt1, dtype=object)\n",
    "\n",
    "vel_pt2 = []\n",
    "vel_pt2.append(speed2015.v.sel(x=[577000], y=[7670700], method=\"nearest\"))\n",
    "vel_pt2.append(speed2018.v.sel(x=[577000], y=[7670700], method=\"nearest\"))\n",
    "for val in speed2021.sample([(577000, 7670700)]):\n",
    "    tmp = val * 365.25\n",
    "vel_pt2.append(tmp)\n",
    "vel_pt2 = np.array(vel_pt2, dtype=object)\n",
    "\n",
    "time_x = [date(2015, 4, 16), date(2018, 4, 17), date(2021, 4, 25)]\n",
    "\n",
    "vel_pt2"
   ]
  },
  {
   "cell_type": "markdown",
   "id": "fourth-syntax",
   "metadata": {},
   "source": [
    "Now it's time to plot them! From the figure, you should be able to see the slowdown event at Jakobshavn in 2017/2018 seems to have been a temporary event: in 2021, Jakobshavn's spring speed increases and likely reaches back to the peak between 2013 and 2016. We have attached the our results below for you to compare with your results (for reproducibility)."
   ]
  },
  {
   "cell_type": "code",
   "execution_count": 87,
   "id": "absent-headquarters",
   "metadata": {},
   "outputs": [
    {
     "data": {
      "application/vnd.jupyter.widget-view+json": {
       "model_id": "5f917afeabfd4dfc9d8739051b5c8f56",
       "version_major": 2,
       "version_minor": 0
      },
      "text/plain": [
       "Canvas(toolbar=Toolbar(toolitems=[('Home', 'Reset original view', 'home', 'home'), ('Back', 'Back to previous …"
      ]
     },
     "metadata": {},
     "output_type": "display_data"
    },
    {
     "data": {
      "text/plain": [
       "<matplotlib.legend.Legend at 0x7f66ab95f490>"
      ]
     },
     "execution_count": 87,
     "metadata": {},
     "output_type": "execute_result"
    }
   ],
   "source": [
    "fig, ax1 = plt.subplots(1, 1, figsize=(6, 6))\n",
    "ax1.plot(time_x, vel_pt1, '.-', label='Lower stream')\n",
    "ax1.plot(time_x, vel_pt2, '.-', label='upper stream')\n",
    "ax1.set_xlabel('Year')\n",
    "ax1.set_ylabel('Ice flow speed (m/yr)')\n",
    "ax1.legend()"
   ]
  },
  {
   "cell_type": "markdown",
   "id": "decimal-holocaust",
   "metadata": {},
   "source": [
    "![title](results2.png)"
   ]
  },
  {
   "cell_type": "markdown",
   "id": "aboriginal-conservative",
   "metadata": {},
   "source": [
    "# References"
   ]
  },
  {
   "cell_type": "markdown",
   "id": "sticky-stroke",
   "metadata": {},
   "source": [
    "Whyjay Zheng, William J. Durkin, Andrew K. Melkonian, & Matthew E. Pritchard. (2021, March 10). whyjz/CARST: CARST v2.0.0a1 (Version v2.0.0a1). Zenodo. http://doi.org/10.5281/zenodo.4592619\n",
    "\n",
    "Grisby, S., Zheng, W., Taylor, J.,  Sapienza, F., Snow, T., Pérez, F., & Siegfried, M. (2021). GeoStacks: a library for efficient query and stacking of satellite remote sensing data sets. Accessed x/x/xxxx at https://github.com/geostacks/GeoStacks\n",
    "\n",
    "Rosen, P.A.; Gurrola, E.M.; Agram, P.; Cohen, J.; Lavalle, M.; Riel, B.V.; Fattahi, H.; Aivazis, M.A.; Simons, M.; Buckley, S.M. The InSAR Scientific Computing Environment 3.0: A Flexible Framework for NISAR Operational and User-Led Science Processing. In Proceedings of the IGARSS 2018-2018 IEEE International Geoscience and Remote Sensing Symposium, Valencia, Spain, 22–27 July 2018; pp. 4897–4900.\n",
    "\n",
    "Gardner, A. S., M. A. Fahnestock, and T. A. Scambos, 2019 [update to time of data download]: ITS_LIVE Regional Glacier and Ice Sheet Surface Velocities. Data archived at National Snow and Ice Data Center; doi:10.5067/6II6VW8LLWJ7.\n",
    "\n",
    "Lei, Y., Gardner, A., & Agram, P. (2021). Autonomous Repeat Image Feature Tracking (autoRIFT) and Its Application for Tracking Ice Displacement. Remote Sensing, 13(4), 749. https://doi.org/10.3390/rs13040749\n",
    "\n",
    "Riel, B., Minchew, B., & Joughin, I. (2021). Observing traveling waves in glaciers with remote sensing: New flexible time series methods and application to Sermeq Kujalleq (Jakobshavn Isbræ), Greenland. Cryosphere, 15(1), 407–429. https://doi.org/10.5194/tc-15-407-2021\n",
    "\n",
    "Lei, Y., Gardner, A., & Agram, P. (2021). Autonomous Repeat Image Feature Tracking (autoRIFT) and Its Application for Tracking Ice Displacement. Remote Sensing, 13(4), 749. https://doi.org/10.3390/rs13040749"
   ]
  },
  {
   "cell_type": "code",
   "execution_count": null,
   "id": "about-debut",
   "metadata": {},
   "outputs": [],
   "source": []
  }
 ],
 "metadata": {
  "kernelspec": {
   "display_name": "Python [conda env:.conda-eztrack]",
   "language": "python",
   "name": "conda-env-.conda-eztrack-py"
  },
  "language_info": {
   "codemirror_mode": {
    "name": "ipython",
    "version": 3
   },
   "file_extension": ".py",
   "mimetype": "text/x-python",
   "name": "python",
   "nbconvert_exporter": "python",
   "pygments_lexer": "ipython3",
   "version": "3.9.4"
  },
  "toc-autonumbering": true,
  "toc-showcode": false,
  "toc-showmarkdowntxt": false,
  "toc-showtags": false
 },
 "nbformat": 4,
 "nbformat_minor": 5
}
